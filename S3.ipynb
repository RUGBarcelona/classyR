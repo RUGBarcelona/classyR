{
 "cells": [
  {
   "cell_type": "markdown",
   "metadata": {},
   "source": [
    "# S3\n",
    "\n",
    "First we define a simple, but exensively used in R, class system called S3."
   ]
  },
  {
   "cell_type": "markdown",
   "metadata": {},
   "source": [
    "## Object definition\n",
    "\n",
    "In this system you simply declare what is a class of your new object simply by assigning to it a class vector."
   ]
  },
  {
   "cell_type": "code",
   "execution_count": 1,
   "metadata": {
    "collapsed": false
   },
   "outputs": [
    {
     "data": {
      "text/html": [
       "'numeric'"
      ],
      "text/latex": [
       "'numeric'"
      ],
      "text/markdown": [
       "'numeric'"
      ],
      "text/plain": [
       "[1] \"numeric\""
      ]
     },
     "execution_count": 1,
     "metadata": {},
     "output_type": "execute_result"
    },
    {
     "data": {
      "text/html": [
       "FALSE"
      ],
      "text/latex": [
       "FALSE"
      ],
      "text/markdown": [
       "FALSE"
      ],
      "text/plain": [
       "[1] FALSE"
      ]
     },
     "execution_count": 1,
     "metadata": {},
     "output_type": "execute_result"
    }
   ],
   "source": [
    "a <- 2\n",
    "class(a)\n",
    "is.object(a)"
   ]
  },
  {
   "cell_type": "code",
   "execution_count": 2,
   "metadata": {
    "collapsed": false
   },
   "outputs": [
    {
     "data": {
      "text/html": [
       "'useless'"
      ],
      "text/latex": [
       "'useless'"
      ],
      "text/markdown": [
       "'useless'"
      ],
      "text/plain": [
       "[1] \"useless\""
      ]
     },
     "execution_count": 2,
     "metadata": {},
     "output_type": "execute_result"
    },
    {
     "data": {
      "text/html": [
       "TRUE"
      ],
      "text/latex": [
       "TRUE"
      ],
      "text/markdown": [
       "TRUE"
      ],
      "text/plain": [
       "[1] TRUE"
      ]
     },
     "execution_count": 2,
     "metadata": {},
     "output_type": "execute_result"
    }
   ],
   "source": [
    "class(a) <- \"useless\"\n",
    "class(a)\n",
    "is.object(a)"
   ]
  },
  {
   "cell_type": "markdown",
   "metadata": {},
   "source": [
    "It is a strange object. If you want more classical one you can use list."
   ]
  },
  {
   "cell_type": "code",
   "execution_count": 3,
   "metadata": {
    "collapsed": false
   },
   "outputs": [
    {
     "data": {
      "text/html": [
       "'list'"
      ],
      "text/latex": [
       "'list'"
      ],
      "text/markdown": [
       "'list'"
      ],
      "text/plain": [
       "[1] \"list\""
      ]
     },
     "execution_count": 3,
     "metadata": {},
     "output_type": "execute_result"
    },
    {
     "data": {
      "text/html": [
       "FALSE"
      ],
      "text/latex": [
       "FALSE"
      ],
      "text/markdown": [
       "FALSE"
      ],
      "text/plain": [
       "[1] FALSE"
      ]
     },
     "execution_count": 3,
     "metadata": {},
     "output_type": "execute_result"
    },
    {
     "name": "stdout",
     "output_type": "stream",
     "text": [
      "$id\n",
      "[1] 100\n",
      "\n",
      "$name\n",
      "[1] \"Alan\"\n",
      "\n"
     ]
    }
   ],
   "source": [
    "a <- list(id=100, name=\"Alan\")\n",
    "class(a)\n",
    "is.object(a)\n",
    "print(a)"
   ]
  },
  {
   "cell_type": "code",
   "execution_count": 4,
   "metadata": {
    "collapsed": false
   },
   "outputs": [
    {
     "name": "stdout",
     "output_type": "stream",
     "text": [
      "$id\n",
      "[1] 100\n",
      "\n",
      "$name\n",
      "[1] \"Alan\"\n",
      "\n",
      "attr(,\"class\")\n",
      "[1] \"useless\"\n"
     ]
    }
   ],
   "source": [
    "class(a) <- \"useless\"\n",
    "print(a)"
   ]
  },
  {
   "cell_type": "markdown",
   "metadata": {},
   "source": [
    "## Method dispach"
   ]
  },
  {
   "cell_type": "code",
   "execution_count": 5,
   "metadata": {
    "collapsed": false
   },
   "outputs": [
    {
     "data": {
      "text/html": [
       "'useless'"
      ],
      "text/latex": [
       "'useless'"
      ],
      "text/markdown": [
       "'useless'"
      ],
      "text/plain": [
       "[1] \"useless\""
      ]
     },
     "execution_count": 5,
     "metadata": {},
     "output_type": "execute_result"
    },
    {
     "data": {
      "text/html": [
       "'100 Alan'"
      ],
      "text/latex": [
       "'100 Alan'"
      ],
      "text/markdown": [
       "'100 Alan'"
      ],
      "text/plain": [
       "[1] \"100 Alan\""
      ]
     },
     "execution_count": 5,
     "metadata": {},
     "output_type": "execute_result"
    }
   ],
   "source": [
    "class(a)\n",
    "print.useless <- function(a) {paste(a$id, a$name)}\n",
    "print(a)"
   ]
  },
  {
   "cell_type": "markdown",
   "metadata": {},
   "source": [
    "### New method"
   ]
  },
  {
   "cell_type": "code",
   "execution_count": 6,
   "metadata": {
    "collapsed": false
   },
   "outputs": [
    {
     "name": "stdout",
     "output_type": "stream",
     "text": [
      "[1] \"Hello\"\n",
      "[1] \"Hola\"\n"
     ]
    }
   ],
   "source": [
    "uselessFun <- function(x) UseMethod(\"uselessFun\")\n",
    "\n",
    "uselessFun.default <- function(x) print('Hello')\n",
    "uselessFun(100)\n",
    "    \n",
    "uselessFun.useless <- function(x) print('Hola')\n",
    "uselessFun(a)"
   ]
  },
  {
   "cell_type": "code",
   "execution_count": 7,
   "metadata": {
    "collapsed": false
   },
   "outputs": [
    {
     "data": {
      "text/html": [
       "<dl>\n",
       "\t<dt>$id</dt>\n",
       "\t\t<dd>150</dd>\n",
       "\t<dt>$name</dt>\n",
       "\t\t<dd>'Alan David'</dd>\n",
       "</dl>\n"
      ],
      "text/latex": [
       "\\begin{description}\n",
       "\\item[\\$id] 150\n",
       "\\item[\\$name] 'Alan David'\n",
       "\\end{description}\n"
      ],
      "text/markdown": [
       "$id\n",
       ":   150\n",
       "$name\n",
       ":   'Alan David'\n",
       "\n",
       "\n"
      ],
      "text/plain": [
       "$id\n",
       "[1] 150\n",
       "\n",
       "$name\n",
       "[1] \"Alan David\"\n"
      ]
     },
     "execution_count": 7,
     "metadata": {},
     "output_type": "execute_result"
    },
    {
     "ename": "ERROR",
     "evalue": "Error in b$id: $ operator is invalid for atomic vectors\n",
     "output_type": "error",
     "traceback": [
      "Error in b$id: $ operator is invalid for atomic vectors\n"
     ]
    }
   ],
   "source": [
    "b <- list(id=50, name=\"David\")\n",
    "class(b) <- \"useless\"\n",
    "\n",
    "\"+.useless\" <- function(a, b) {list(id=a$id+b$id, name=paste(a$name, b$name))}\n",
    "a + b\n",
    "a + 100"
   ]
  },
  {
   "cell_type": "markdown",
   "metadata": {},
   "source": [
    "### Double dispach"
   ]
  },
  {
   "cell_type": "code",
   "execution_count": 15,
   "metadata": {
    "collapsed": false
   },
   "outputs": [
    {
     "data": {
      "text/html": [
       "<dl>\n",
       "\t<dt>$id</dt>\n",
       "\t\t<dd>150</dd>\n",
       "\t<dt>$name</dt>\n",
       "\t\t<dd>'David Alan'</dd>\n",
       "</dl>\n"
      ],
      "text/latex": [
       "\\begin{description}\n",
       "\\item[\\$id] 150\n",
       "\\item[\\$name] 'David Alan'\n",
       "\\end{description}\n"
      ],
      "text/markdown": [
       "$id\n",
       ":   150\n",
       "$name\n",
       ":   'David Alan'\n",
       "\n",
       "\n"
      ],
      "text/plain": [
       "$id\n",
       "[1] 150\n",
       "\n",
       "$name\n",
       "[1] \"David Alan\"\n"
      ]
     },
     "execution_count": 15,
     "metadata": {},
     "output_type": "execute_result"
    },
    {
     "data": {
      "text/html": [
       "<dl>\n",
       "\t<dt>$id</dt>\n",
       "\t\t<dd>200</dd>\n",
       "\t<dt>$name</dt>\n",
       "\t\t<dd>'Alan'</dd>\n",
       "</dl>\n"
      ],
      "text/latex": [
       "\\begin{description}\n",
       "\\item[\\$id] 200\n",
       "\\item[\\$name] 'Alan'\n",
       "\\end{description}\n"
      ],
      "text/markdown": [
       "$id\n",
       ":   200\n",
       "$name\n",
       ":   'Alan'\n",
       "\n",
       "\n"
      ],
      "text/plain": [
       "$id\n",
       "[1] 200\n",
       "\n",
       "$name\n",
       "[1] \"Alan\"\n"
      ]
     },
     "execution_count": 15,
     "metadata": {},
     "output_type": "execute_result"
    },
    {
     "data": {
      "text/html": [
       "<dl>\n",
       "\t<dt>$id</dt>\n",
       "\t\t<dd>100</dd>\n",
       "\t<dt>$name</dt>\n",
       "\t\t<dd>'Alan Hola'</dd>\n",
       "</dl>\n"
      ],
      "text/latex": [
       "\\begin{description}\n",
       "\\item[\\$id] 100\n",
       "\\item[\\$name] 'Alan Hola'\n",
       "\\end{description}\n"
      ],
      "text/markdown": [
       "$id\n",
       ":   100\n",
       "$name\n",
       ":   'Alan Hola'\n",
       "\n",
       "\n"
      ],
      "text/plain": [
       "$id\n",
       "[1] 100\n",
       "\n",
       "$name\n",
       "[1] \"Alan Hola\"\n"
      ]
     },
     "execution_count": 15,
     "metadata": {},
     "output_type": "execute_result"
    }
   ],
   "source": [
    "\"%+useless%\" <- function(a, b) UseMethod('%+useless%')\n",
    "    \n",
    "\"%+useless%.default\" <- function(a, b) \"HaHaHa\"\n",
    "\"%+useless%.useless\" <- function(a, b) list(id=a$id+b$id, name=paste(a$name, b$name))\n",
    "\"%+useless%.numeric\" <- function(a, b) list(id=a+b$id, name=b$name)\n",
    "\"%+useless%.character\" <- function(a, b) list(id=b$id, name=paste(b$name, a))\n",
    "    \n",
    "\"+.useless\" <- function(a, b) b %+useless% a\n",
    "\n",
    "a + b\n",
    "a + 100\n",
    "a + \"Hola\""
   ]
  },
  {
   "cell_type": "markdown",
   "metadata": {},
   "source": [
    "## Inheritance"
   ]
  },
  {
   "cell_type": "code",
   "execution_count": 16,
   "metadata": {
    "collapsed": false
   },
   "outputs": [
    {
     "name": "stdout",
     "output_type": "stream",
     "text": [
      "[1] \"useful\"  \"useless\"\n",
      "[1] \"I'm very useful\"\n"
     ]
    }
   ],
   "source": [
    "a2 <- a\n",
    "class(a2) <- c(\"useful\", class(b))\n",
    "print(class(a2))\n",
    "print.useful <- function(b) print(\"I'm very useful\")\n",
    "print(a2)"
   ]
  }
 ],
 "metadata": {
  "kernelspec": {
   "display_name": "R",
   "language": "R",
   "name": "ir"
  },
  "language_info": {
   "codemirror_mode": "r",
   "file_extension": ".r",
   "mimetype": "text/x-r-source",
   "name": "R",
   "pygments_lexer": "r",
   "version": "3.2.2"
  }
 },
 "nbformat": 4,
 "nbformat_minor": 0
}
