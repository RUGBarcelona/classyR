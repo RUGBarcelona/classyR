{
 "cells": [
  {
   "cell_type": "markdown",
   "metadata": {},
   "source": [
    "## Classes an objects"
   ]
  },
  {
   "cell_type": "code",
   "execution_count": 8,
   "metadata": {
    "collapsed": false
   },
   "outputs": [
    {
     "data": {
      "text/html": [
       "'R2D2'"
      ],
      "text/latex": [
       "'R2D2'"
      ],
      "text/markdown": [
       "'R2D2'"
      ],
      "text/plain": [
       "[1] \"R2D2\""
      ]
     },
     "execution_count": 8,
     "metadata": {},
     "output_type": "execute_result"
    }
   ],
   "source": [
    "setClass(\"Event\", slots=list(name=\"character\", start_date=\"Date\", end_date=\"Date\"))\n",
    "conference <- new(\"Event\", name=\"R2D2\", start_date=as.Date(\"2015-10-10\"), end_date=as.Date(\"2015-10-20\"))\n",
    "conference@name"
   ]
  },
  {
   "cell_type": "markdown",
   "metadata": {},
   "source": [
    "## Inheritance"
   ]
  },
  {
   "cell_type": "code",
   "execution_count": 15,
   "metadata": {
    "collapsed": false
   },
   "outputs": [
    {
     "data": {
      "text/html": [
       "'R2D2'"
      ],
      "text/latex": [
       "'R2D2'"
      ],
      "text/markdown": [
       "'R2D2'"
      ],
      "text/plain": [
       "[1] \"R2D2\""
      ]
     },
     "execution_count": 15,
     "metadata": {},
     "output_type": "execute_result"
    }
   ],
   "source": [
    "setClass(\"SpecialEvent\", contains=\"Event\", slots=list(organizer=\"character\"))\n",
    "specialEvent <- new(\"SpecialEvent\", \n",
    "                    name=\"C3PO\", \n",
    "                    start_date=as.Date(\"2015-10-10\"), \n",
    "                    end_date=as.Date(\"2015-10-20\") , \n",
    "                    organizer=\"R2D2\")\n",
    "specialEvent@organizer"
   ]
  }
 ],
 "metadata": {
  "kernelspec": {
   "display_name": "R",
   "language": "R",
   "name": "ir"
  },
  "language_info": {
   "codemirror_mode": "r",
   "file_extension": ".r",
   "mimetype": "text/x-r-source",
   "name": "R",
   "pygments_lexer": "r",
   "version": "3.2.2"
  }
 },
 "nbformat": 4,
 "nbformat_minor": 0
}
